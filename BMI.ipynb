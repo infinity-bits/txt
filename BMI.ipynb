{
 "cells": [
  {
   "cell_type": "code",
   "execution_count": 1,
   "metadata": {},
   "outputs": [],
   "source": [
    "from selenium import webdriver\n",
    "import time\n",
    "browser = webdriver.Chrome('C:\\\\Users\\\\cz\\\\Downloads\\\\chromedriver_win32\\\\chromedriver.exe')"
   ]
  },
  {
   "cell_type": "code",
   "execution_count": 2,
   "metadata": {},
   "outputs": [],
   "source": [
    "try:\n",
    "    browser.get('https://www.nhlbi.nih.gov/health/educational/lose_wt/BMI/bmicalc.htm')\n",
    "except:\n",
    "    print('no internet connection')"
   ]
  },
  {
   "cell_type": "code",
   "execution_count": 5,
   "metadata": {},
   "outputs": [],
   "source": [
    "def secondsheet(bmi , i):\n",
    "    import numpy as np\n",
    "    path2 = \"C:\\\\rbsk\\\\1.xlsx\"\n",
    "    wb2_obj = openpyxl.load_workbook(path2) \n",
    "    sheet2_obj = wb2_obj.active\n",
    "    sheet2= wb2_obj['Sheet1']\n",
    "\n",
    "    age = sheet.cell(row = i, column = 5).value \n",
    "    sex = sheet.cell(row = i, column = 6).value \n",
    "    max2= sheet2.max_row\n",
    "    for c in range(4,max2+1):\n",
    "        temp = sheet2.cell(row = c, column = 8).value \n",
    "        if age == temp:\n",
    "            if sex == \"g\":\n",
    "                g1 = np.arange(9,16)\n",
    "                advalue = 9\n",
    "            else:\n",
    "                g1 = np.arange(1,8)\n",
    "                advalue = 1\n",
    "            lst=[]\n",
    "            for j in g1:\n",
    "                tem = sheet2.cell(row = c, column = j).value\n",
    "                lst.append(tem)\n",
    "            #to find closest value to the bmi in the list\n",
    "            sd = lst[min(range(len(lst)), key = lambda k: abs(lst[k]-bmi))] \n",
    "            sdvalue = sheet2.cell(row = 3, column = (lst.index(sd))+advalue).value\n",
    "            #print(sdvalue)\n",
    "            sheet.cell(row = i,column = 8).value = sdvalue\n",
    "        else:\n",
    "            pass"
   ]
  },
  {
   "cell_type": "code",
   "execution_count": 6,
   "metadata": {},
   "outputs": [],
   "source": [
    "import openpyxl\n",
    "path = \"C:\\\\Users\\\\cz\\\\Desktop\\\\bmi.xlsx\"\n",
    "wb_obj = openpyxl.load_workbook(path) \n",
    "sheet_obj = wb_obj.active \n",
    "sheet = wb_obj['Sheet1']\n",
    "max = sheet.max_row\n",
    "for i in range(2,max+1):\n",
    "    hf = sheet.cell(row = i, column = 2).value \n",
    "    hi = sheet.cell(row = i, column = 3).value\n",
    "    w = sheet.cell(row = i, column = 4).value\n",
    "    #sending keys to the element \n",
    "    browser.find_element_by_name('htf').send_keys(hf)\n",
    "    browser.find_element_by_name('hti').send_keys(hi)\n",
    "    browser.find_element_by_name('wt').send_keys(w)\n",
    "    #clicking the compute bmi \n",
    "    browser.find_element_by_css_selector(\"input[type='button'][value='Compute BMI']\").click()\n",
    "    #time.sleep(2)\n",
    "    #store bmi\n",
    "    val = browser.find_element_by_id('yourbmi').get_attribute(\"value\")\n",
    "    bmi=eval(val)\n",
    "    ul = 18.5\n",
    "    nl = 24.9\n",
    "    \n",
    "    if (bmi <= ul):\n",
    "        sheet_obj.cell(row = i, column = 9).value = \"underweigth\"\n",
    "    elif (bmi>ul and bmi<nl):\n",
    "        sheet_obj.cell(row = i, column = 9).value = \"Normal\"\n",
    "    elif (bmi>=25 and bmi<30):\n",
    "        sheet_obj.cell(row = i, column = 9).value = \"overweight\"\n",
    "    else:\n",
    "        sheet_obj.cell(row = i, column = 9).value = \"obesity\"\n",
    "    c5 = sheet.cell(row = i,column = 7)\n",
    "    c5.value= bmi\n",
    "    secondsheet(bmi , i)\n",
    "   \n",
    "    wb_obj.save(str(path))\n",
    "    #clearing the elements\n",
    "    browser.find_element_by_name('htf').clear()\n",
    "    browser.find_element_by_name('hti').clear()\n",
    "    browser.find_element_by_name('wt').clear()\n",
    "    browser.find_element_by_name('bmi').clear()\n",
    "    #time.sleep(1)\n"
   ]
  },
  {
   "cell_type": "code",
   "execution_count": null,
   "metadata": {},
   "outputs": [],
   "source": []
  },
  {
   "cell_type": "code",
   "execution_count": null,
   "metadata": {},
   "outputs": [],
   "source": []
  },
  {
   "cell_type": "code",
   "execution_count": null,
   "metadata": {},
   "outputs": [],
   "source": []
  }
 ],
 "metadata": {
  "kernelspec": {
   "display_name": "Python 3",
   "language": "python",
   "name": "python3"
  },
  "language_info": {
   "codemirror_mode": {
    "name": "ipython",
    "version": 3
   },
   "file_extension": ".py",
   "mimetype": "text/x-python",
   "name": "python",
   "nbconvert_exporter": "python",
   "pygments_lexer": "ipython3",
   "version": "3.7.3"
  }
 },
 "nbformat": 4,
 "nbformat_minor": 2
}
